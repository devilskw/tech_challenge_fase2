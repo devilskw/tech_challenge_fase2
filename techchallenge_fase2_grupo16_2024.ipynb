{
  "nbformat": 4,
  "nbformat_minor": 0,
  "metadata": {
    "colab": {
      "provenance": [],
      "toc_visible": true,
      "authorship_tag": "ABX9TyNvtw2ngTUC9ju0rMSKn+oQ",
      "include_colab_link": true
    },
    "kernelspec": {
      "name": "python3",
      "display_name": "Python 3"
    },
    "language_info": {
      "name": "python"
    }
  },
  "cells": [
    {
      "cell_type": "markdown",
      "metadata": {
        "id": "view-in-github",
        "colab_type": "text"
      },
      "source": [
        "<a href=\"https://colab.research.google.com/github/devilskw/tech_challenge_fase2/blob/main/techchallenge_fase2_grupo16_2024.ipynb\" target=\"_parent\"><img src=\"https://colab.research.google.com/assets/colab-badge.svg\" alt=\"Open In Colab\"/></a>"
      ]
    },
    {
      "cell_type": "markdown",
      "source": [
        "## Nota\n",
        "Criarmos a classe **MelhorTrajeto** para organização da aplicação do projeto, porém, vamos altear para deixar aqui de uma forma que fique fácil o entendimento de como foi pensado o algoritmo genético, analises e mostrar resultados obtidos de forma descrita\n",
        "\n"
      ],
      "metadata": {
        "id": "9DCfYJjtIyHC"
      }
    },
    {
      "cell_type": "markdown",
      "source": [
        "## Pré-definições e Bibliotecas\n",
        "\n",
        "Vamos usar a biblioteca random, para nos apoiar quando precisarmos gerar aleatoriedades\n",
        "\n",
        "Também vamos definir para o exemplo alguns valores padrões a serem utilizados\n",
        "\n",
        "```python\n",
        "tamanho_populacao: int=100, # quantidade de indivíduos a serem gerados na população\n",
        "qtde_geracoes: int=50, # quantidade de gerações (condição de término)\n",
        "qtde_amostra_selecao: int=10, # quantidade de amostras que serão separadas para a seleção\n",
        "probabilidade_mutacao: float=0.10) # probabilidade para apoiar na decisão de realizar (ou não) a mutação\n",
        "```"
      ],
      "metadata": {
        "id": "TQ5f-IyFPGZn"
      }
    },
    {
      "cell_type": "code",
      "source": [
        "import random\n",
        "\n",
        "tamanho_populacao: int=100\n",
        "qtde_geracoes: int=50\n",
        "qtde_amostra_selecao: int=10\n",
        "probabilidade_mutacao: float=0.10"
      ],
      "metadata": {
        "id": "13fjgf2SOHJq"
      },
      "execution_count": 41,
      "outputs": []
    },
    {
      "cell_type": "markdown",
      "source": [
        "Vamos nos basear sempre no fluxo mostrado em aula para entendermos melhor o que cada parte do código representa no fluxo algoritmo genético:\n",
        "\n",
        "[Clique aqui para ver a imagem do fluxograma](https://github.com/devilskw/tech_challenge_fase2/blob/main/assets/fluxograma_algorimo_genetico.png)"
      ],
      "metadata": {
        "id": "VhkbDC-LJi2i"
      }
    },
    {
      "cell_type": "markdown",
      "source": [
        "# 1. Gerar a população inicial\n",
        "\n",
        "A população inicial será gerada através da criação de rotas aleatórias baseados nos pontos de entrega que deverão ser efetuadas, até o máximo definido para o tmanho da população."
      ],
      "metadata": {
        "id": "daIMvVSiJo9y"
      }
    },
    {
      "cell_type": "markdown",
      "source": [
        "Criamos o método **\\_\\_gerar_rota_aleatoria\\_\\_** para apoiar na geração da população.\n",
        "\n",
        "Este método recebe como parâmetro de entrada aos pontos de **entregas** do dia, cria uma lista somente com os identificador único dos clientes e realiza o \"embaralhamento\" da ordem, retornando essa lista como uma nova rota de ordem aleatória."
      ],
      "metadata": {
        "id": "ubljUwpgXaTb"
      }
    },
    {
      "cell_type": "code",
      "source": [
        "def __gerar_rota_aleatoria__(entregas):\n",
        "  rota = list(entregas.keys())\n",
        "  random.shuffle(rota)\n",
        "  return rota"
      ],
      "metadata": {
        "id": "lGtBRGqnJoFS"
      },
      "execution_count": 43,
      "outputs": []
    },
    {
      "cell_type": "markdown",
      "source": [
        "Para apoiar na geração da população temos o método  **\\_\\_gerar_populacao\\_\\_**, que receberá como parâmetro os pontos de entrega (**pntos_entrega**) e a quantidade de indivíduos que devem ser gerados para a população (**tamanho_populacao**)\n",
        "\n",
        "\n",
        "Obs.: Ficou definido que, na população, não seria adicionada na rota a localização do centro de distribuição (CD), porém, ela será considerada posteriormente, na etapa de **Seleção**."
      ],
      "metadata": {
        "id": "p7Xm7j4eJv9U"
      }
    },
    {
      "cell_type": "code",
      "source": [
        "def __gerar_populacao__(entregas, tamanho_populacao) -> list[str]:\n",
        "  return [(__gerar_rota_aleatoria__(entregas), 0) for _ in range(tamanho_populacao)]"
      ],
      "metadata": {
        "id": "_FZsjbtoXUgH"
      },
      "execution_count": 52,
      "outputs": []
    },
    {
      "cell_type": "markdown",
      "source": [
        "# 2. Avaliar a aptidão dos indivíduos (fitness)\n",
        "\n",
        "Para avaliarmos a aptidão dos indivíduos, vamos considerar o cálculo da distância total de cada rota da população, lembrando que, para diferenciar neste projeto, será considerado como ponto inicial a localização do centro de distribuição, que será onde o motorista deverá iniciar a partida para as suas entregas."
      ],
      "metadata": {
        "id": "eXeHPogAX4yQ"
      }
    },
    {
      "cell_type": "markdown",
      "source": [
        "\n",
        "O método **\"\\_\\_calcular_fitness\\_\\_\"** será o nosso cálculo de ***'fitness'***, ou seja, será o cálculo a ser considerado para avaliar a aptidão dos indivíduos no algoritmo genético.\n",
        "\n",
        "\n",
        "#### Mas, como será o nosso cálculo de aptidão?\n",
        "\n",
        "Vamos considerar como cálculo a distância total da rota:\n",
        "\n",
        "Ele receberá a posição do centro de ditribuição (CD), os dados de rotas/entregas.\n",
        "\n",
        "Ele deverá calcular a distância total que será percorrida pelo motorista considerando a rota informada (seguindo fielmente a ordenação passada).\n",
        "\n",
        "Para isso, temos o método **\"\\_\\_calcular_distancia_total_rota\\_\\_\"**.\n",
        "\n",
        "Para calcular a distância entre o ponto de localização inicial e final, iremos utilizar o método **\"\\_\\_calcular_distancia_pontos\\_\\_\"**, que nada mais é que um cálculo matemático que mede a distância entre as duas localizações. Pensando em um plano cartesiano, imagine que cada endereço (e CD) possui uma localização (X,Y). Então, pensando no ponto inicial (X', Y') e ponto final (X'', Y''), o calculo seria:\n",
        "\n",
        "1. subtrair X''  por X'', e depois elevar ao quadrado. Vamos considerar que esse resultado será R1\n",
        "2. subtrair Y''  por Y'', e depois elevar ao quadrado. Vamos considerar que esse resultado será R2\n",
        "3. Somar R1 e R2, resultando em R3\n",
        "4. O resultado final (distância) será a raiz quadrada de R3\n",
        "\n",
        "Inicialmente, ele irá calcular qual a distância entre o CD e o primeiro endereço de entrega.\n",
        "\n",
        "Na ordem da rota, vai calculando a distância do ponto anterior com o próximo ponto de entrega, e somando esse resultado para obter a distância total"
      ],
      "metadata": {
        "id": "GtqeEIlAKOv0"
      }
    },
    {
      "cell_type": "code",
      "source": [
        "def __calcular_distancia_pontos__(ponto1: tuple[float, float], ponto2: tuple[float, float]):\n",
        "    return ((ponto2[0] - ponto1[0])**2 + (ponto2[1] - ponto1[1])**2) ** 0.5\n",
        "\n",
        "def __calcular_distancia_total_rota__(centro_distribuicao, rota, entregas):\n",
        "  distancia_Total = 0\n",
        "  if len(rota) > 0:\n",
        "    distancia_Total += __calcular_distancia_pontos__(centro_distribuicao, entregas[rota[0]])\n",
        "    for i in range(len(rota) - 1):\n",
        "      endereco1 = rota[i]\n",
        "      endereco2 = rota[i + 1]\n",
        "      distancia_Total += __calcular_distancia_pontos__(entregas[endereco1], entregas[endereco2])\n",
        "  return distancia_Total\n",
        "\n",
        "def __calcular_fitness__(centro_distribuicao, entregas, populacao):\n",
        "  populacao_tmp = populacao\n",
        "  for ix in range(len(populacao)):\n",
        "      populacao_tmp[ix] = (populacao[ix][0], __calcular_distancia_total_rota__(centro_distribuicao, populacao[ix][0], entregas))\n",
        "  return populacao_tmp"
      ],
      "metadata": {
        "id": "w2vGpeiPbkTY"
      },
      "execution_count": 45,
      "outputs": []
    },
    {
      "cell_type": "markdown",
      "source": [
        "# 3. Verificar a condição de término\n",
        "\n",
        "A condição de término será baseada na limitação de iterações possíveis para as gerações, que será controalada pela variável **\"qtde_geracoes\"** (que foi citada inicialmente)\n",
        "\n",
        "Mais para frente, no código, esta etapa será representada pelo ciclo:\n",
        "\n",
        "```python\n",
        "for _ in range(qtde_geracoes):\n",
        "```\n"
      ],
      "metadata": {
        "id": "o09XQ3VncCwi"
      }
    },
    {
      "cell_type": "markdown",
      "source": [
        "# 4. Seleção\n",
        "\n",
        "Com base num valor definido vamos pegar uma amostragem da população e considerar o menor valor encontrado, selecionando 2 indivíduos a cada passagem.\n",
        "\n",
        "### Como funciona?\n",
        "\n",
        "O método **\"\\_\\_realizar_selecao\\_\\_\"** será o responsável pela seleção, onde receberá como parâmetro a população, e também a quantidade definida para amostrar da seleção.\n",
        "\n",
        "Neste método, vamos utilizar o método **\"sample\"** da biblioteca **\"random\"**, que será o responsável por pegar essa amostragem.\n",
        "\n",
        "A partir dessa amostragem, o método irá retornar o indivíduo identificado com menor **\"fitness\"**, ou seja, com **menor** valor de distância total da rota.\n",
        "\n",
        "No caso do nosso projeto, vamos gerar 2 indivíduos (**individuo1** e **individuo2**), que apoiarrá para a próxima etapa, que é a etapa de cruzamento.\n"
      ],
      "metadata": {
        "id": "ala2PFatc52Y"
      }
    },
    {
      "cell_type": "code",
      "source": [
        "def __realizar_selecao__( populacao, qtde_amostra_selecao):\n",
        "  amostragem = random.sample(populacao, qtde_amostra_selecao)\n",
        "  return min(amostragem, key=lambda x: x[1])"
      ],
      "metadata": {
        "id": "ytSciAFxdJmB"
      },
      "execution_count": 46,
      "outputs": []
    },
    {
      "cell_type": "markdown",
      "source": [
        "## 5. Cruzamento (Crossover) e 6. Mutação\n",
        "\n",
        "### No cruzamento\n",
        "\n",
        "Para o cruzamento, vamos considerar de forma aleatória um índice para realizar o cruzamento entre os indivíduos.\n",
        "\n",
        "O método que realizará o cruzamento será o **\"\\_\\_realizar_cruzamento\\_\\_\"**, que receberá entregas, individuo1 e individuo2.\n",
        "\n",
        "Então, ao receber os 2 indivíduos gerados a partir da etapa de ***seleção***, a idéia é que ele realize o cruzamento deles, gerando um ***descentente***.\n",
        "\n",
        "Para fazer esse cruzamento, vamos aleatoriamente gerar um índice de cruzamento, que irá definir até que ponto irá pegar os pontos de entrega do **indivíduo1** (na ordem), e depois complementar o restante com o **indivíduo2**, lembrando que não podemos repetir um mesmo endereço de entrega.\n",
        "\n",
        "\n",
        "### Na mutação\n",
        "\n",
        "Para a mutação, haverá uma condição para realizar ou não a mutação. Para este projeto, vamos realizar a mutação na parte parcial considerada do cruzamento\n",
        " para o **individuo2**.\n",
        "\n",
        " Neste caso, temos o método **\"\\_\\_realizar_mutacao\\_\\_\"**, que receberá como parâmetros a lista com os pontos de entrega parciais que acabamos (do **individuo2**) e o valor definido para a probabilidade para apoiar na realização ou não da mutação.\n",
        "\n",
        "#### Para definir se irá realizar ou não a mutação, o que fizemos:\n",
        "\n",
        "  - Usamos o método **\"random()\"** da biblioteca **\"random\"**, que gera um valor aleatório;\n",
        "  - Verificamos se esse valor aleatório é menor qua a probabilidade para realizar a mutação. Se menor, a condição será true, senão false;\n",
        "  - Se a condição anterior for true, ainda vamos considerar **somente** quando a lista de pontos de entrega parciais tiver, pelo menos 2 pontos de entrega. Então, se também tiver 2 ou mais pontos de entrega na lista, ele realizará a mutação, senão não\n",
        "\n",
        "#### Se for para realizar a mutação:\n",
        " - Geramos aleatoriamente um índice (**indice_mutacao**) para trocar 2 pontos de entrega.\n",
        " - Baseado nesse índice de mutação, fazemos a troca do ponto de entrega na posição do índice com o da próxima posição (por isso que subtraímos com **-2**, para facilitar a evitar erro por tentar pegar item de uma lista com índice acima do possível)\n",
        " - Devolve os pontos de entrega parciais após essas alterações\n",
        "\n",
        "#### Se não for para realizar a mutação:\n",
        " - Simplesmente retorna os pontos de entrega parciais como vieram\n",
        "\n"
      ],
      "metadata": {
        "id": "pFYFSPrFeT7E"
      }
    },
    {
      "cell_type": "code",
      "source": [
        "def __realizar_mutacao__(pontos_entrega_parciais: list, probabilidade_mutacao: float):\n",
        "  mutantes = pontos_entrega_parciais\n",
        "  if random.random() < probabilidade_mutacao and len(pontos_entrega_parciais) >= 2:\n",
        "    indice_mutacao = random.randint(0, len(pontos_entrega_parciais) - 2)\n",
        "    mutante_tmp = mutantes[indice_mutacao]\n",
        "    mutantes[indice_mutacao] = mutantes[indice_mutacao +1]\n",
        "    mutantes[indice_mutacao+1] = mutante_tmp\n",
        "  return mutantes\n",
        "\n",
        "def __realizar_cruzamento__(entregas, individuo1, individuo2):\n",
        "  indice_cruzamento = random.randint(1, len(entregas) - 1)\n",
        "  descendente = individuo1[0][:indice_cruzamento]\n",
        "  descendente += __realizar_mutacao__([endereco for endereco in individuo2[0] if endereco not in descendente], probabilidade_mutacao)\n",
        "  return descendente"
      ],
      "metadata": {
        "id": "1c94sgz1efEH"
      },
      "execution_count": 47,
      "outputs": []
    },
    {
      "cell_type": "markdown",
      "source": [
        "## 7. Substituir População Antiga\n",
        "A cada geração, uma nova população será formada com base nos decendentes criados com a mesma quantidade definida para população"
      ],
      "metadata": {
        "id": "BE7aUAaRkLQr"
      }
    },
    {
      "cell_type": "markdown",
      "source": [
        "## O Algoritmo Genético\n",
        "\n",
        "O algoritmo genético será representado pelo método **\"gerar_melhor_trajeto\"**, que utilizará os métodos explicados anteriormente.\n",
        "\n",
        "Então, ao vermos o método, vemos que ele irá seguir conforme o fluxograma apresentado para algoritmo genético."
      ],
      "metadata": {
        "id": "n8KRT3gOk4fu"
      }
    },
    {
      "cell_type": "code",
      "source": [
        "  def gerar_melhor_trajeto( centro_distribuicao: tuple[float, float], entregas: dict[str, tuple[float, float]]):\n",
        "    populacao = __gerar_populacao__(entregas,tamanho_populacao)\n",
        "    for _ in range(qtde_geracoes):\n",
        "      populacao = __calcular_fitness__(centro_distribuicao, entregas, populacao)\n",
        "      populacao_temp = []\n",
        "      for _ in range(tamanho_populacao):\n",
        "        individuo1 = __realizar_selecao__(populacao, qtde_amostra_selecao)\n",
        "        individuo2 = __realizar_selecao__(populacao, qtde_amostra_selecao)\n",
        "        descendente = __realizar_cruzamento__(entregas, individuo1, individuo2)\n",
        "        populacao_temp.append((descendente, __calcular_distancia_total_rota__(centro_distribuicao, descendente, entregas)))\n",
        "      populacao = populacao_temp\n",
        "    melhor_trajeto = min(populacao, key=lambda x: x[1])\n",
        "    return melhor_trajeto"
      ],
      "metadata": {
        "id": "EpFSF1x2lMSq"
      },
      "execution_count": 53,
      "outputs": []
    },
    {
      "cell_type": "markdown",
      "source": [
        "## Dados de exemplo para demonstração e testes\n",
        "\n",
        "Vamos agora criar um exemplo para demonstrarmos o algoritmo, analisando os resultados também\n",
        "\n",
        "Vamos primeiro definir onde ficará o centro de distribuição"
      ],
      "metadata": {
        "id": "BtGeIiVNI6Bd"
      }
    },
    {
      "cell_type": "code",
      "source": [
        "localizacao_centro_distribuicao = (3.13, 1.44)"
      ],
      "metadata": {
        "id": "P3Ya3jH9Ir9k"
      },
      "execution_count": 54,
      "outputs": []
    },
    {
      "cell_type": "markdown",
      "source": [
        "Agora, vamos definir os locais em que o motorista precisará realizar as entregas de cada cliente"
      ],
      "metadata": {
        "id": "YQW2t0LgJMwZ"
      }
    },
    {
      "cell_type": "code",
      "source": [
        "entregas_motorista = {\n",
        "    'Cliente A': (0.11, 0.22),\n",
        "    'Cliente B': (1.11, 2.22),\n",
        "    'Cliente C': (3.11, 1.22),\n",
        "    'Cliente D': (5.11, 3.22),\n",
        "    'Cliente E': (2.11, 4.22)\n",
        "}"
      ],
      "metadata": {
        "id": "8v-xTOSnJH_x"
      },
      "execution_count": 55,
      "outputs": []
    },
    {
      "cell_type": "markdown",
      "source": [
        "Agora, vamos chamar o nosso algoritmo genético e verificarmos os resultados"
      ],
      "metadata": {
        "id": "l3oC7H1jmFA6"
      }
    },
    {
      "cell_type": "code",
      "source": [
        "trajeto = gerar_melhor_trajeto(localizacao_centro_distribuicao, entregas_motorista)\n",
        "\n",
        "print(\"Melhor trajeto:\", trajeto[0])\n",
        "print(\"Total Distance:\", round(trajeto[1], 2))"
      ],
      "metadata": {
        "colab": {
          "base_uri": "https://localhost:8080/"
        },
        "id": "TnIPM6tkmMu1",
        "outputId": "8fd0dede-d61f-4dc8-ab2b-3d7d6d62d82e"
      },
      "execution_count": 58,
      "outputs": [
        {
          "output_type": "stream",
          "name": "stdout",
          "text": [
            "Melhor trajeto: ['Cliente C', 'Cliente D', 'Cliente E', 'Cliente B', 'Cliente A']\n",
            "Total Distance: 10.68\n"
          ]
        }
      ]
    }
  ]
}